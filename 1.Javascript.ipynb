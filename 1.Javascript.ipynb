{
 "cells": [
  {
   "cell_type": "code",
   "execution_count": null,
   "metadata": {},
   "outputs": [],
   "source": [
    "# javascript :\n",
    "\n",
    "\n",
    "\"\"\"\n",
    "* client side programming lanaguge\n",
    "* JS is programming language of the Web\n",
    "* Js to program the behaviour of web pages\"\"\""
   ]
  },
  {
   "cell_type": "code",
   "execution_count": null,
   "metadata": {},
   "outputs": [],
   "source": [
    "# What is Client:\n",
    "\n",
    "\n",
    "\"\"\"* the browser is called AS CLIENT\n",
    "* IT works only on Browser\"\"\""
   ]
  },
  {
   "cell_type": "code",
   "execution_count": null,
   "metadata": {},
   "outputs": [],
   "source": [
    "# What is Progamming Langauge ?\n",
    "\n",
    "\n",
    "\"\"\"\n",
    "* A Tool used to give instructions to computer\"\"\""
   ]
  },
  {
   "cell_type": "code",
   "execution_count": null,
   "metadata": {},
   "outputs": [],
   "source": [
    "# What are computers and their instruction?\n",
    "\n",
    "\"\"\"\n",
    "* Computer is a machine\n",
    "* if u give input , it will return the output\n",
    "* Computer only can understand 0,1(Binary Langugae)\n",
    "* EX : phones,laptops,washing machines,ovens and etc\n",
    "\"\"\""
   ]
  },
  {
   "cell_type": "code",
   "execution_count": null,
   "metadata": {},
   "outputs": [],
   "source": [
    "# Translators:\n",
    "\n",
    "\"\"\"\n",
    "* Compiler\n",
    "* interpreter\n",
    "* Assembler\n",
    "\"\"\""
   ]
  },
  {
   "cell_type": "code",
   "execution_count": null,
   "metadata": {},
   "outputs": [],
   "source": [
    "# Programming Languages are Categorized into \n",
    "\n",
    "1. Low level\n",
    "2. High level"
   ]
  },
  {
   "cell_type": "code",
   "execution_count": null,
   "metadata": {},
   "outputs": [],
   "source": [
    "# Javascript is a Highlevel programming language\n",
    "# use of Javascipt:\n",
    "# Why we need to pick Javascript only ?\n",
    "\n",
    "\"\"\"\n",
    "* JS can change HTML content\n",
    "* JS can change HTML attribute values\n",
    "* JS can change HTML Style (CSS)\n",
    "* JS can show HTML Elements\n",
    "\"\"\""
   ]
  }
 ],
 "metadata": {
  "language_info": {
   "name": "python"
  }
 },
 "nbformat": 4,
 "nbformat_minor": 2
}
